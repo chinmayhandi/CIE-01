{
  "nbformat": 4,
  "nbformat_minor": 0,
  "metadata": {
    "colab": {
      "provenance": [],
      "authorship_tag": "ABX9TyNvKARcdKIT+MGioRSHU3qW",
      "include_colab_link": true
    },
    "kernelspec": {
      "name": "python3",
      "display_name": "Python 3"
    },
    "language_info": {
      "name": "python"
    }
  },
  "cells": [
    {
      "cell_type": "markdown",
      "metadata": {
        "id": "view-in-github",
        "colab_type": "text"
      },
      "source": [
        "<a href=\"https://colab.research.google.com/github/chinmayhandi/CIE-01/blob/main/CIE_02.ipynb\" target=\"_parent\"><img src=\"https://colab.research.google.com/assets/colab-badge.svg\" alt=\"Open In Colab\"/></a>"
      ]
    },
    {
      "cell_type": "code",
      "execution_count": null,
      "metadata": {
        "colab": {
          "base_uri": "https://localhost:8080/"
        },
        "id": "lRHFgrxAq9Xn",
        "outputId": "0d54771f-bcac-4977-b10e-575aed758dca"
      },
      "outputs": [
        {
          "output_type": "stream",
          "name": "stdout",
          "text": [
            "<class 'pandas.core.frame.DataFrame'>\n",
            "RangeIndex: 891 entries, 0 to 890\n",
            "Data columns (total 15 columns):\n",
            " #   Column       Non-Null Count  Dtype   \n",
            "---  ------       --------------  -----   \n",
            " 0   survived     891 non-null    int64   \n",
            " 1   pclass       891 non-null    int64   \n",
            " 2   sex          891 non-null    object  \n",
            " 3   age          714 non-null    float64 \n",
            " 4   sibsp        891 non-null    int64   \n",
            " 5   parch        891 non-null    int64   \n",
            " 6   fare         891 non-null    float64 \n",
            " 7   embarked     889 non-null    object  \n",
            " 8   class        891 non-null    category\n",
            " 9   who          891 non-null    object  \n",
            " 10  adult_male   891 non-null    bool    \n",
            " 11  deck         203 non-null    category\n",
            " 12  embark_town  889 non-null    object  \n",
            " 13  alive        891 non-null    object  \n",
            " 14  alone        891 non-null    bool    \n",
            "dtypes: bool(2), category(2), float64(2), int64(4), object(5)\n",
            "memory usage: 80.7+ KB\n",
            "None\n",
            "         survived      pclass         age       sibsp       parch        fare\n",
            "count  891.000000  891.000000  714.000000  891.000000  891.000000  891.000000\n",
            "mean     0.383838    2.308642   29.699118    0.523008    0.381594   32.204208\n",
            "std      0.486592    0.836071   14.526497    1.102743    0.806057   49.693429\n",
            "min      0.000000    1.000000    0.420000    0.000000    0.000000    0.000000\n",
            "25%      0.000000    2.000000   20.125000    0.000000    0.000000    7.910400\n",
            "50%      0.000000    3.000000   28.000000    0.000000    0.000000   14.454200\n",
            "75%      1.000000    3.000000   38.000000    1.000000    0.000000   31.000000\n",
            "max      1.000000    3.000000   80.000000    8.000000    6.000000  512.329200\n",
            "     survived  pclass    sex    age  sibsp  parch   fare  embarked  class  \\\n",
            "0       False   False  False  False  False  False  False     False  False   \n",
            "1       False   False  False  False  False  False  False     False  False   \n",
            "2       False   False  False  False  False  False  False     False  False   \n",
            "3       False   False  False  False  False  False  False     False  False   \n",
            "4       False   False  False  False  False  False  False     False  False   \n",
            "..        ...     ...    ...    ...    ...    ...    ...       ...    ...   \n",
            "886     False   False  False  False  False  False  False     False  False   \n",
            "887     False   False  False  False  False  False  False     False  False   \n",
            "888     False   False  False   True  False  False  False     False  False   \n",
            "889     False   False  False  False  False  False  False     False  False   \n",
            "890     False   False  False  False  False  False  False     False  False   \n",
            "\n",
            "       who  adult_male   deck  embark_town  alive  alone  \n",
            "0    False       False   True        False  False  False  \n",
            "1    False       False  False        False  False  False  \n",
            "2    False       False   True        False  False  False  \n",
            "3    False       False  False        False  False  False  \n",
            "4    False       False   True        False  False  False  \n",
            "..     ...         ...    ...          ...    ...    ...  \n",
            "886  False       False   True        False  False  False  \n",
            "887  False       False  False        False  False  False  \n",
            "888  False       False   True        False  False  False  \n",
            "889  False       False  False        False  False  False  \n",
            "890  False       False   True        False  False  False  \n",
            "\n",
            "[891 rows x 15 columns]\n"
          ]
        }
      ],
      "source": [
        "import pandas as pd\n",
        "import seaborn as sns\n",
        "import matplotlib.pyplot as plt\n",
        "\n",
        "\n",
        "df = sns.load_dataset(\"titanic\")\n",
        "\n",
        "\n",
        "\n",
        "print(df.info())\n",
        "print(df.isnull())\n",
        "\n"
      ]
    },
    {
      "cell_type": "code",
      "source": [
        "print(df.describe())\n"
      ],
      "metadata": {
        "colab": {
          "base_uri": "https://localhost:8080/"
        },
        "id": "IbtMKGsJTV8W",
        "outputId": "a90501ed-8cb4-4ce4-8f75-993700d0ba5d"
      },
      "execution_count": 4,
      "outputs": [
        {
          "output_type": "stream",
          "name": "stdout",
          "text": [
            "         survived      pclass         age       sibsp       parch        fare\n",
            "count  891.000000  891.000000  714.000000  891.000000  891.000000  891.000000\n",
            "mean     0.383838    2.308642   29.699118    0.523008    0.381594   32.204208\n",
            "std      0.486592    0.836071   14.526497    1.102743    0.806057   49.693429\n",
            "min      0.000000    1.000000    0.420000    0.000000    0.000000    0.000000\n",
            "25%      0.000000    2.000000   20.125000    0.000000    0.000000    7.910400\n",
            "50%      0.000000    3.000000   28.000000    0.000000    0.000000   14.454200\n",
            "75%      1.000000    3.000000   38.000000    1.000000    0.000000   31.000000\n",
            "max      1.000000    3.000000   80.000000    8.000000    6.000000  512.329200\n"
          ]
        }
      ]
    },
    {
      "cell_type": "code",
      "source": [
        "\n",
        "print(\"\\nMissing values:\\n\",df.isnull().sum())"
      ],
      "metadata": {
        "colab": {
          "base_uri": "https://localhost:8080/"
        },
        "id": "wZVQTyI2Io0X",
        "outputId": "81086fdb-fb11-45b3-92a5-d3fc6c52cdd7"
      },
      "execution_count": null,
      "outputs": [
        {
          "output_type": "stream",
          "name": "stdout",
          "text": [
            "\n",
            "Missing values:\n",
            " survived         0\n",
            "pclass           0\n",
            "sex              0\n",
            "age            177\n",
            "sibsp            0\n",
            "parch            0\n",
            "fare             0\n",
            "embarked         2\n",
            "class            0\n",
            "who              0\n",
            "adult_male       0\n",
            "deck           688\n",
            "embark_town      2\n",
            "alive            0\n",
            "alone            0\n",
            "dtype: int64\n"
          ]
        }
      ]
    },
    {
      "cell_type": "code",
      "source": [
        "usecols=['age', 'suevived']\n",
        "print(df)"
      ],
      "metadata": {
        "id": "P6hbtTc4IuFg",
        "colab": {
          "base_uri": "https://localhost:8080/"
        },
        "outputId": "7362216a-ae39-4d24-a071-3fb03707fbc4"
      },
      "execution_count": null,
      "outputs": [
        {
          "output_type": "stream",
          "name": "stdout",
          "text": [
            "         survived  pclass     sex   age  sibsp  parch     fare embarked  \\\n",
            "0    not survived       3    male  22.0      1      0   7.2500        S   \n",
            "1        survived       1  female  38.0      1      0  71.2833        C   \n",
            "2        survived       3  female  26.0      0      0   7.9250        S   \n",
            "3        survived       1  female  35.0      1      0  53.1000        S   \n",
            "4    not survived       3    male  35.0      0      0   8.0500        S   \n",
            "..            ...     ...     ...   ...    ...    ...      ...      ...   \n",
            "886  not survived       2    male  27.0      0      0  13.0000        S   \n",
            "887      survived       1  female  19.0      0      0  30.0000        S   \n",
            "888  not survived       3  female   NaN      1      2  23.4500        S   \n",
            "889      survived       1    male  26.0      0      0  30.0000        C   \n",
            "890  not survived       3    male  32.0      0      0   7.7500        Q   \n",
            "\n",
            "      class    who  adult_male deck  embark_town alive  alone  \n",
            "0     Third    man        True  NaN  Southampton    no  False  \n",
            "1     First  woman       False    C    Cherbourg   yes  False  \n",
            "2     Third  woman       False  NaN  Southampton   yes   True  \n",
            "3     First  woman       False    C  Southampton   yes  False  \n",
            "4     Third    man        True  NaN  Southampton    no   True  \n",
            "..      ...    ...         ...  ...          ...   ...    ...  \n",
            "886  Second    man        True  NaN  Southampton    no   True  \n",
            "887   First  woman       False    B  Southampton   yes   True  \n",
            "888   Third  woman       False  NaN  Southampton    no  False  \n",
            "889   First    man        True    C    Cherbourg   yes   True  \n",
            "890   Third    man        True  NaN   Queenstown    no   True  \n",
            "\n",
            "[891 rows x 15 columns]\n"
          ]
        }
      ]
    },
    {
      "cell_type": "code",
      "source": [
        "C_3A=(df['pclass']==3).sum()\n",
        "C_2A=(df['pclass']==2).sum()\n",
        "C_1A=(df['pclass']==1).sum()\n",
        "plt.bar(['3A', '2A', '1A' ], [C_3A, C_2A, C_1A ], color=['orange', 'blue', 'red'])\n",
        "plt.title(\"type of pclass\")\n",
        "plt.xlabel(\"pclass\")\n",
        "plt.ylabel(\"count\")\n",
        "plt.show()"
      ],
      "metadata": {
        "colab": {
          "base_uri": "https://localhost:8080/",
          "height": 472
        },
        "id": "gdTme9JoKhT9",
        "outputId": "838c3b59-1fd8-4bfb-8aa3-c85085cdb928"
      },
      "execution_count": 5,
      "outputs": [
        {
          "output_type": "display_data",
          "data": {
            "text/plain": [
              "<Figure size 640x480 with 1 Axes>"
            ],
            "image/png": "[encoded data removed]"
          },
          "metadata": {}
        }
      ]
    }
  ]
}